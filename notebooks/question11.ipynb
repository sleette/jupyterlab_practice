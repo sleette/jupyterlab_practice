{
 "cells": [
  {
   "cell_type": "markdown",
   "id": "733db837-6e72-4f52-8c3f-0e930731f0be",
   "metadata": {},
   "source": [
    "# Shawn Hart\n",
    "Notebook for assignment 7"
   ]
  },
  {
   "cell_type": "code",
   "execution_count": 1,
   "id": "6140bede-b67a-43f3-8a1b-9266beb8822e",
   "metadata": {},
   "outputs": [
    {
     "data": {
      "text/plain": [
       "5.0"
      ]
     },
     "execution_count": 1,
     "metadata": {},
     "output_type": "execute_result"
    }
   ],
   "source": [
    "def compute_mean(numbers):\n",
    "    return sum(numbers) / len(numbers)\n",
    "\n",
    "compute_mean([2, 4, 6, 8])"
   ]
  },
  {
   "cell_type": "markdown",
   "id": "f72dc019-317c-433b-bd02-89c05dcf9df2",
   "metadata": {},
   "source": [
    "`compute_mean()` accepts a list of numbers and returns the average (mean) of the list, as shown below:\n",
    "\n",
    "$$\n",
    "\\bar{x} = \\frac{x_1 + x_2 + ... + x_n}{n} = \\frac{1}{n}\\left(\\sum_{i=1}^{n}x_i\\right)\n",
    "$$"
   ]
  },
  {
   "cell_type": "code",
   "execution_count": null,
   "id": "62b36a0b-24dc-43da-98aa-955f833c7b1e",
   "metadata": {},
   "outputs": [],
   "source": []
  }
 ],
 "metadata": {
  "kernelspec": {
   "display_name": "Python 3 (ipykernel)",
   "language": "python",
   "name": "python3"
  },
  "language_info": {
   "codemirror_mode": {
    "name": "ipython",
    "version": 3
   },
   "file_extension": ".py",
   "mimetype": "text/x-python",
   "name": "python",
   "nbconvert_exporter": "python",
   "pygments_lexer": "ipython3",
   "version": "3.10.10"
  }
 },
 "nbformat": 4,
 "nbformat_minor": 5
}
